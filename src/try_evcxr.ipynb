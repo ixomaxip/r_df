{
 "cells": [
  {
   "cell_type": "code",
   "execution_count": 2,
   "id": "abfa2f9b-991d-46f7-9f7d-76aa46bb9498",
   "metadata": {},
   "outputs": [],
   "source": [
    ":dep plotters = { git = \"https://github.com/38/plotters\", default_features = false, features = [\"evcxr\"] }"
   ]
  },
  {
   "cell_type": "code",
   "execution_count": 3,
   "id": "396f6eb2-abd8-45b5-b6fa-714ff9b72dfa",
   "metadata": {},
   "outputs": [],
   "source": [
    "use plotters::prelude::*;\n",
    "fn main() -> Result<(), Box<dyn std::error::Error>> {\n",
    "    // Create a 800*600 bitmap and start drawing\n",
    "//     let mut backend = BitMapBackend::new(\"plotters-doc-data/1.png\", (300, 200));\n",
    "    // And if we want SVG backend\n",
    "    let mut backend = SVGBackend::new(\"output.svg\", (800, 600));\n",
    "    backend.draw_rect((50, 50), (200, 150), &RED, true)?;\n",
    "    Ok(())\n",
    "}"
   ]
  },
  {
   "cell_type": "code",
   "execution_count": 4,
   "id": "99849bf6-cdd5-4d2a-81bb-38da6d37faf3",
   "metadata": {},
   "outputs": [
    {
     "name": "stderr",
     "output_type": "stream",
     "text": [
      "Hello error\n"
     ]
    },
    {
     "name": "stdout",
     "output_type": "stream",
     "text": [
      "Hello world\n"
     ]
    },
    {
     "data": {
      "text/plain": [
       "\"Hello world\""
      ]
     },
     "execution_count": 4,
     "metadata": {},
     "output_type": "execute_result"
    }
   ],
   "source": [
    "println!(\"Hello world\");\n",
    "eprintln!(\"Hello error\");\n",
    "format!(\"Hello {}\", \"world\")"
   ]
  },
  {
   "cell_type": "code",
   "execution_count": 5,
   "id": "15e118c2-2440-4219-a40a-6883098dcde9",
   "metadata": {},
   "outputs": [
    {
     "data": {
      "text/plain": [
       "[1, 1, 2, 3, 5, 8, 13, 21, 34, 55, 89, 144]"
      ]
     },
     "execution_count": 5,
     "metadata": {},
     "output_type": "execute_result"
    }
   ],
   "source": [
    "pub fn fib(x: i32) -> i32 {\n",
    "    if x <= 2 {1} else {fib(x - 2) + fib(x - 1)}\n",
    "}\n",
    "let values = (1..13).map(fib).collect::<Vec<i32>>();\n",
    "values"
   ]
  },
  {
   "cell_type": "code",
   "execution_count": 6,
   "id": "ed80a0b7-a5a5-40a3-847c-7156eee0d3b6",
   "metadata": {},
   "outputs": [],
   "source": [
    "use std::sync::{Mutex, Arc};\n",
    "let counter = Arc::new(Mutex::new(0i32));\n",
    "std::thread::spawn({\n",
    "    let counter = Arc::clone(&counter);\n",
    "    move || {\n",
    "        for i in 1..300 {\n",
    "            *counter.lock().unwrap() += 1;\n",
    "            std::thread::sleep(std::time::Duration::from_millis(100));\n",
    "        }\n",
    "}});"
   ]
  },
  {
   "cell_type": "code",
   "execution_count": 7,
   "id": "f34829d9-85c9-4ec2-b899-57ac0764a2c8",
   "metadata": {},
   "outputs": [
    {
     "data": {
      "text/plain": [
       "29"
      ]
     },
     "execution_count": 7,
     "metadata": {},
     "output_type": "execute_result"
    }
   ],
   "source": [
    "*counter.lock()?"
   ]
  },
  {
   "cell_type": "code",
   "execution_count": 8,
   "id": "eabfca5d-31dc-43df-9bfb-5f6c34903d86",
   "metadata": {},
   "outputs": [
    {
     "data": {
      "text/plain": [
       "118"
      ]
     },
     "execution_count": 8,
     "metadata": {},
     "output_type": "execute_result"
    }
   ],
   "source": [
    "*counter.lock()?"
   ]
  },
  {
   "cell_type": "code",
   "execution_count": 9,
   "id": "321ebd45-abe8-4ce6-9bb2-3af9f89c65c2",
   "metadata": {},
   "outputs": [
    {
     "data": {
      "text/plain": [
       "\"AQIDBA==\""
      ]
     },
     "execution_count": 9,
     "metadata": {},
     "output_type": "execute_result"
    }
   ],
   "source": [
    ":dep base64 = \"0.10.1\"\n",
    "base64::encode(&vec![1, 2, 3, 4])"
   ]
  },
  {
   "cell_type": "code",
   "execution_count": 10,
   "id": "cededa97-274e-4d6f-a3d0-ee7b67c51b93",
   "metadata": {},
   "outputs": [
    {
     "data": {
      "text/html": [
       "<table><tr><td>1</td><td>2</td><td>3</td></tr><tr><td>4</td><td>5</td><td>6</td></tr><tr><td>7</td><td>8</td><td>9</td></tr></table>"
      ]
     },
     "execution_count": 10,
     "metadata": {},
     "output_type": "execute_result"
    }
   ],
   "source": [
    "use std::fmt::Debug;\n",
    "pub struct Matrix<T> {pub values: Vec<T>, pub row_size: usize}\n",
    "impl<T: Debug> Matrix<T> {\n",
    "    pub fn evcxr_display(&self) {\n",
    "        let mut html = String::new();\n",
    "        html.push_str(\"<table>\");\n",
    "        for r in 0..(self.values.len() / self.row_size) {\n",
    "            html.push_str(\"<tr>\");\n",
    "            for c in 0..self.row_size {\n",
    "                html.push_str(\"<td>\");\n",
    "                html.push_str(&format!(\"{:?}\", self.values[r * self.row_size + c]));\n",
    "                html.push_str(\"</td>\");\n",
    "            }\n",
    "            html.push_str(\"</tr>\");            \n",
    "        }\n",
    "        html.push_str(\"</table>\");\n",
    "        println!(\"EVCXR_BEGIN_CONTENT text/html\\n{}\\nEVCXR_END_CONTENT\", html);\n",
    "    }\n",
    "}\n",
    "let m = Matrix {values: vec![1,2,3,4,5,6,7,8,9], row_size: 3};\n",
    "m"
   ]
  },
  {
   "cell_type": "code",
   "execution_count": 11,
   "id": "d3d0427c-a538-47c7-a697-ba1f58a4b54e",
   "metadata": {},
   "outputs": [
    {
     "name": "stderr",
     "output_type": "stream",
     "text": [
      "The type of the variable m was redefined, so was lost.\n"
     ]
    },
    {
     "data": {
      "image/png": "[encoded data removed]"
     },
     "execution_count": 11,
     "metadata": {},
     "output_type": "execute_result"
    }
   ],
   "source": [
    ":dep image = \"0.23\"\n",
    ":dep evcxr_image = \"1.1\"\n",
    "use evcxr_image::ImageDisplay;\n",
    "\n",
    "image::ImageBuffer::from_fn(256, 256, |x, y| {\n",
    "    if (x as i32 - y as i32).abs() < 3 {\n",
    "        image::Rgb([0, 0, 255])\n",
    "    } else {\n",
    "        image::Rgb([0, 0, 0])\n",
    "    }\n",
    "})"
   ]
  },
  {
   "cell_type": "code",
   "execution_count": null,
   "id": "be8428cc-2b15-46a3-9851-878506dc4af4",
   "metadata": {},
   "outputs": [],
   "source": [
    ":vars"
   ]
  },
  {
   "cell_type": "code",
   "execution_count": null,
   "id": "f452fce6-da1f-4b19-8adc-dd151fd0f70e",
   "metadata": {},
   "outputs": [],
   "source": [
    ":help"
   ]
  }
 ],
 "metadata": {
  "kernelspec": {
   "display_name": "Rust",
   "language": "rust",
   "name": "rust"
  },
  "language_info": {
   "codemirror_mode": "rust",
   "file_extension": ".rs",
   "mimetype": "text/rust",
   "name": "Rust",
   "pygment_lexer": "rust",
   "version": ""
  }
 },
 "nbformat": 4,
 "nbformat_minor": 5
}
